{
 "cells": [
  {
   "cell_type": "markdown",
   "metadata": {},
   "source": [
    "# Software Analysis, Testing, and Verification Final Project\n",
    "### By Adam Traub"
   ]
  },
  {
   "cell_type": "markdown",
   "metadata": {},
   "source": [
    "### Large-Scale test of PrettyTable"
   ]
  },
  {
   "cell_type": "markdown",
   "metadata": {},
   "source": [
    "## Part I Getting Started"
   ]
  },
  {
   "cell_type": "markdown",
   "metadata": {},
   "source": [
    "### A.) Setup"
   ]
  },
  {
   "cell_type": "code",
   "execution_count": 3,
   "metadata": {},
   "outputs": [
    {
     "name": "stdout",
     "output_type": "stream",
     "text": [
      "Requirement already satisfied: prettytable in /home/traubad/.conda/envs/tf_gpu/lib/python3.6/site-packages (0.7.2)\n",
      "Requirement already satisfied: pytest in /home/traubad/.conda/envs/tf_gpu/lib/python3.6/site-packages (4.4.1)\n",
      "Requirement already satisfied: six>=1.10.0 in /home/traubad/.conda/envs/tf_gpu/lib/python3.6/site-packages (from pytest) (1.12.0)\n",
      "Requirement already satisfied: setuptools in /home/traubad/.conda/envs/tf_gpu/lib/python3.6/site-packages (from pytest) (40.8.0)\n",
      "Requirement already satisfied: py>=1.5.0 in /home/traubad/.conda/envs/tf_gpu/lib/python3.6/site-packages (from pytest) (1.8.0)\n",
      "Requirement already satisfied: attrs>=17.4.0 in /home/traubad/.conda/envs/tf_gpu/lib/python3.6/site-packages (from pytest) (19.1.0)\n",
      "Requirement already satisfied: more-itertools>=4.0.0; python_version > \"2.7\" in /home/traubad/.conda/envs/tf_gpu/lib/python3.6/site-packages (from pytest) (7.0.0)\n",
      "Requirement already satisfied: atomicwrites>=1.0 in /home/traubad/.conda/envs/tf_gpu/lib/python3.6/site-packages (from pytest) (1.3.0)\n",
      "Requirement already satisfied: pluggy>=0.9 in /home/traubad/.conda/envs/tf_gpu/lib/python3.6/site-packages (from pytest) (0.9.0)\n"
     ]
    }
   ],
   "source": [
    "#The following libraries are required\n",
    "!pip install prettytable\n",
    "!pip install pytest"
   ]
  },
  {
   "cell_type": "code",
   "execution_count": null,
   "metadata": {},
   "outputs": [],
   "source": []
  },
  {
   "cell_type": "markdown",
   "metadata": {},
   "source": [
    "### Pytest Quirk"
   ]
  },
  {
   "cell_type": "markdown",
   "metadata": {},
   "source": [
    "The following code exposed a shortcoming in PyTest that was surprisingly difficult to overcome."
   ]
  },
  {
   "cell_type": "code",
   "execution_count": null,
   "metadata": {},
   "outputs": [],
   "source": [
    "class TestPrettyTable(object):\n",
    "    \n",
    "    #STYLE Expectation\n",
    "    def __tableStyleHandler(self, style):\n",
    "        \"\"\"Tester for table Styles\"\"\"\n",
    "        if style in STYLES: #If it's a good style\n",
    "            try:\n",
    "                self.table.set_style(style) #Set the style\n",
    "            except Exception: #and fail if an exception is raised\n",
    "                pytest.fail(\"set_style raised Exception unexpectedly!\")\n",
    "\n",
    "        else: #If it's a bad style\n",
    "             with pytest.raises(Exception) as context: #expect an exception\n",
    "                 self.table.set_style(style) #When the bad style is set"
   ]
  },
  {
   "cell_type": "markdown",
   "metadata": {},
   "source": [
    "Don't see a problem?  It's a suble one.  What happens if a an exception is hit as a result of a mistake in the testing code inside the else statement?  if that happens, Pytest will count that as the test passing because it's only looking for a raised exception.<br>\n",
    "<br>\n",
    "The first possible fix is an obvious one - use a more specific exception than the generic \"Exception.\"  This would be a great solution except that the method being tested uses the generic Exception class `raise Exception(\"Invalid pre-set style!\")`<br>\n",
    "<br>\n",
    "My workaround was a simple one.  We want to confirm that the error we hit has the `Invalid pre-set style` string associated with it.  The following code was my attempt to circumvent this shortcoming."
   ]
  },
  {
   "cell_type": "code",
   "execution_count": 4,
   "metadata": {},
   "outputs": [],
   "source": [
    "class TestPrettyTable(object):\n",
    "\n",
    "    #STYLE Expectation\n",
    "    def __tableStyleHandler(self, style):\n",
    "        \"\"\"Tester for table Styles\"\"\"\n",
    "        if style in STYLES: #If it's a good style\n",
    "            try:\n",
    "                self.table.set_style(style) #Set the style\n",
    "            except Exception: #and fail if an exception is raised\n",
    "                pytest.fail(\"set_style raised Exception unexpectedly!\")\n",
    "\n",
    "        else: #If it's a bad style\n",
    "            try:\n",
    "                self.table.set_style(style) #Try to set the bad style\n",
    "                pytest.fail(\"Exception failed to hit\") #Fail if no exception is hit\n",
    "            except Exception as e:\n",
    "                #Assert it's the correct exception\n",
    "                assert(str(e) == \"Invalid pre-set style!\") "
   ]
  },
  {
   "cell_type": "markdown",
   "metadata": {},
   "source": [
    "While the new code is arguably more complex, it does narrow our test to the precise circumstances of this error and prevents false negatives."
   ]
  }
 ],
 "metadata": {
  "kernelspec": {
   "display_name": "Python (tf_gpu)",
   "language": "python",
   "name": "tf_gpu"
  },
  "language_info": {
   "codemirror_mode": {
    "name": "ipython",
    "version": 3
   },
   "file_extension": ".py",
   "mimetype": "text/x-python",
   "name": "python",
   "nbconvert_exporter": "python",
   "pygments_lexer": "ipython3",
   "version": "3.6.8"
  }
 },
 "nbformat": 4,
 "nbformat_minor": 2
}
